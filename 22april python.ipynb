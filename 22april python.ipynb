{
 "cells": [
  {
   "cell_type": "code",
   "execution_count": 2,
   "id": "846440f1-3a62-488a-9adb-7a1c9a23d8d1",
   "metadata": {},
   "outputs": [
    {
     "name": "stdout",
     "output_type": "stream",
     "text": [
      "210\n"
     ]
    }
   ],
   "source": [
    "sum=0\n",
    "for i in range(1,21):\n",
    "    sum=sum+i\n",
    "print(sum)"
   ]
  },
  {
   "cell_type": "code",
   "execution_count": 13,
   "id": "7ee25b98-2525-44af-9556-c4e1f5282cb9",
   "metadata": {},
   "outputs": [
    {
     "name": "stdout",
     "output_type": "stream",
     "text": [
      "57\n"
     ]
    }
   ],
   "source": [
    "sum=0\n",
    "for i in range(18,21):\n",
    "    sum=sum+i\n",
    "print(sum)"
   ]
  },
  {
   "cell_type": "code",
   "execution_count": 39,
   "id": "c9c43214-2a5f-4e82-b369-eafae373b142",
   "metadata": {},
   "outputs": [
    {
     "name": "stdout",
     "output_type": "stream",
     "text": [
      "2432902008176640000 10.5\n"
     ]
    }
   ],
   "source": [
    "product=1\n",
    "avg=0\n",
    "for i in range(1,21):\n",
    "    product*=i\n",
    "    avg+=i\n",
    "    total=avg/20\n",
    "print(product,total)"
   ]
  },
  {
   "cell_type": "code",
   "execution_count": 46,
   "id": "9c6b3c84-5e1c-42e3-b9cc-d96dbafb8e46",
   "metadata": {},
   "outputs": [
    {
     "name": "stdin",
     "output_type": "stream",
     "text": [
      "enter your number:  2\n"
     ]
    },
    {
     "name": "stdout",
     "output_type": "stream",
     "text": [
      "2\n",
      "4\n",
      "6\n",
      "8\n",
      "10\n",
      "12\n",
      "14\n",
      "16\n",
      "18\n",
      "20\n"
     ]
    }
   ],
   "source": [
    "num=int(input(\"enter your number: \"))\n",
    "for i in range(1,11):\n",
    "    print(num*i)    "
   ]
  },
  {
   "cell_type": "code",
   "execution_count": 59,
   "id": "eca1e958-e7f4-41b7-9f82-40200ea8b6a1",
   "metadata": {},
   "outputs": [
    {
     "name": "stdout",
     "output_type": "stream",
     "text": [
      "50069\n"
     ]
    }
   ],
   "source": [
    "sum=0\n",
    "for i in range(1,7):\n",
    "    power=i**i\n",
    "    sum=sum+power \n",
    "print(sum)    "
   ]
  },
  {
   "cell_type": "code",
   "execution_count": 84,
   "id": "6d123d00-845e-4a1a-b528-21fa62bf4190",
   "metadata": {},
   "outputs": [
    {
     "name": "stdin",
     "output_type": "stream",
     "text": [
      "enter your character:  shivangi\n"
     ]
    },
    {
     "name": "stdout",
     "output_type": "stream",
     "text": [
      "Consonant s\n",
      "Consonant h\n",
      "Consonant v\n",
      "Consonant n\n",
      "Consonant g\n",
      "5\n"
     ]
    }
   ],
   "source": [
    "total=0\n",
    "for ch in (input(\"enter your character: \")):\n",
    "    if(ch!=\"a\" and ch!=\"e\" and ch!=\"i\" and ch!=\"o\" and ch!=\"u\"):\n",
    "        print(\"Consonant\",ch)\n",
    "        total+=1\n",
    "print(total)"
   ]
  },
  {
   "cell_type": "code",
   "execution_count": 100,
   "id": "6a5b801e-7e08-482e-95a5-c53b2b680cb1",
   "metadata": {},
   "outputs": [
    {
     "name": "stdin",
     "output_type": "stream",
     "text": [
      "Enter a number:  6\n"
     ]
    },
    {
     "name": "stdout",
     "output_type": "stream",
     "text": [
      "9\n",
      "18\n",
      "0.45\n"
     ]
    }
   ],
   "source": [
    "num=int(input(\"Enter a number: \"))\n",
    "sum=0\n",
    "product=1\n",
    "avg=0\n",
    "for i in range(1,num+1):\n",
    "    if(i%3==0):\n",
    "        sum=sum+i\n",
    "        product*=i\n",
    "        avg+=i\n",
    "        total=avg/20\n",
    "print(sum)\n",
    "print(product)\n",
    "print(total)"
   ]
  },
  {
   "cell_type": "code",
   "execution_count": null,
   "id": "834c7f10-b30e-4cef-b9a8-24998e54d961",
   "metadata": {},
   "outputs": [],
   "source": []
  }
 ],
 "metadata": {
  "kernelspec": {
   "display_name": "Python 3 (ipykernel)",
   "language": "python",
   "name": "python3"
  },
  "language_info": {
   "codemirror_mode": {
    "name": "ipython",
    "version": 3
   },
   "file_extension": ".py",
   "mimetype": "text/x-python",
   "name": "python",
   "nbconvert_exporter": "python",
   "pygments_lexer": "ipython3",
   "version": "3.12.2"
  }
 },
 "nbformat": 4,
 "nbformat_minor": 5
}
