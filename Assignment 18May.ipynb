{
 "cells": [
  {
   "cell_type": "code",
   "execution_count": 12,
   "id": "457891b9-85d4-429f-aa2e-a25b4e7380d4",
   "metadata": {},
   "outputs": [
    {
     "name": "stdout",
     "output_type": "stream",
     "text": [
      "before swap\n",
      "x 10\n",
      "y 20\n",
      "after swap\n",
      "x 20\n",
      "y 10\n"
     ]
    }
   ],
   "source": [
    "#Swap the number without using third varible.\n",
    "\n",
    "class numswap:\n",
    "    def __init__(self,x,y):\n",
    "     self.x = x\n",
    "     self.y = y\n",
    "\n",
    "    def info(self):\n",
    "        self.x = self.x + self.y\n",
    "        self.y = self.x - self.y\n",
    "        self.x = self.x - self.y\n",
    "\n",
    "    def num(self):\n",
    "        print(\"x\",self.x)\n",
    "        print(\"y\",self.y)\n",
    "\n",
    "swap = numswap(10,20)\n",
    "print(\"before swap\")\n",
    "swap.num()\n",
    "swap.info()\n",
    "print(\"after swap\")\n",
    "swap.num()\n"
   ]
  },
  {
   "cell_type": "code",
   "execution_count": 30,
   "id": "3bb2020a-0683-4a62-b1f9-fe119bee8672",
   "metadata": {},
   "outputs": [
    {
     "name": "stdout",
     "output_type": "stream",
     "text": [
      "Original= 7536 Reverse= 6357\n"
     ]
    }
   ],
   "source": [
    "#Write a Program to extract each digit from an integer in the reverse order For example, If the given int is 7536, the output shall be “6 3 5 7“, with a space separating the digits.\n",
    "class Num:\n",
    "    \n",
    "    def __init__(self,num):\n",
    "        self.num=num\n",
    "\n",
    "    def reverse(self):\n",
    "        num_str=str(self.num)\n",
    "        digits = \"\"\n",
    "        for char in num_str[::-1]:\n",
    "            digits+=char  \n",
    "        return digits\n",
    "\n",
    "num=7536\n",
    "h1=Num(num)\n",
    "print(\"Original=\",num,\"Reverse=\",h1.reverse())"
   ]
  },
  {
   "cell_type": "code",
   "execution_count": 1,
   "id": "c8bd845e-3dcb-4d76-aaa0-39cbd8d6cada",
   "metadata": {},
   "outputs": [
    {
     "name": "stdin",
     "output_type": "stream",
     "text": [
      "Enter first num:  20\n",
      "Enter second num:  10\n",
      "Enter third num:  30\n"
     ]
    },
    {
     "name": "stdout",
     "output_type": "stream",
     "text": [
      "Sum of the digits: 60\n"
     ]
    }
   ],
   "source": [
    "#Write a program that will give you the sum of 3 digits.\n",
    "\n",
    "class Sum:\n",
    "    def __init__(self, num1, num2, num3):\n",
    "        self.num1 = num1\n",
    "        self.num2 = num2\n",
    "        self.num3 = num3\n",
    "    \n",
    "    def digit_sum(self):\n",
    "        return self.num1 + self.num2 + self.num3\n",
    "\n",
    "\n",
    "num1 = int(input(\"Enter first num: \"))\n",
    "num2 = int(input(\"Enter second num: \"))\n",
    "num3 = int(input(\"Enter third num: \"))\n",
    "\n",
    "s1 = Sum(num1, num2, num3)\n",
    "result = s1.digit_sum()\n",
    "\n",
    "print(\"Sum of the digits:\", result)\n"
   ]
  },
  {
   "cell_type": "code",
   "execution_count": 2,
   "id": "b4b34a9f-0389-4a48-8d24-8157ad4a2003",
   "metadata": {},
   "outputs": [
    {
     "name": "stdin",
     "output_type": "stream",
     "text": [
      "Enter first num:  4\n",
      "Enter second num:  2\n",
      "Enter third num:  6\n"
     ]
    },
    {
     "name": "stdout",
     "output_type": "stream",
     "text": [
      "Sum of square of the digits: 56\n"
     ]
    }
   ],
   "source": [
    "#write a program that will take three digits from the user and add the square of each digit.\n",
    "\n",
    "class Sum:\n",
    "    def __init__(self, num1, num2, num3):\n",
    "        self.num1 = num1\n",
    "        self.num2 = num2\n",
    "        self.num3 = num3\n",
    "    \n",
    "    def digit_square(self):\n",
    "        return self.num1**2 + self.num2**2 + self.num3**2\n",
    "\n",
    "\n",
    "num1 = int(input(\"Enter first num: \"))\n",
    "num2 = int(input(\"Enter second num: \"))\n",
    "num3 = int(input(\"Enter third num: \"))\n",
    "\n",
    "s1 = Sum(num1, num2, num3)\n",
    "result = s1.digit_square()\n",
    "\n",
    "print(\"Sum of square of the digits:\", result)\n"
   ]
  },
  {
   "cell_type": "code",
   "execution_count": 7,
   "id": "770726e5-733a-4349-8c24-2db5ceae77c0",
   "metadata": {},
   "outputs": [
    {
     "name": "stdin",
     "output_type": "stream",
     "text": [
      "Enter a number:  153\n"
     ]
    },
    {
     "name": "stdout",
     "output_type": "stream",
     "text": [
      "is an Armstrong number.\n"
     ]
    }
   ],
   "source": [
    "#Write a program that will check whether the number is armstrong number or not.\n",
    "\n",
    "class Armstrong:\n",
    "    def __init__(self, number):\n",
    "        self.number = number\n",
    "    \n",
    "    def info(self):\n",
    "        num_str = str(self.number)\n",
    "        num_digits = len(num_str)\n",
    "        \n",
    "        sum_of_digits = sum(int(digit) ** num_digits for digit in num_str)\n",
    "        return sum_of_digits == self.number\n",
    "\n",
    "\n",
    "num = int(input(\"Enter a number: \"))\n",
    "\n",
    "a1 = Armstrong(num)\n",
    "if a1.info():\n",
    "    print(f\"is an Armstrong number.\")\n",
    "else:\n",
    "    print(f\"is not an Armstrong number.\")\n"
   ]
  },
  {
   "cell_type": "code",
   "execution_count": 9,
   "id": "c18ba339-1318-4893-bcb7-be1e9da0c190",
   "metadata": {},
   "outputs": [
    {
     "name": "stdin",
     "output_type": "stream",
     "text": [
      "Enter a 4-digit number:  1634\n"
     ]
    },
    {
     "name": "stdout",
     "output_type": "stream",
     "text": [
      "1634 is a narcissistic number.\n"
     ]
    }
   ],
   "source": [
    "#Write a program that will take user input of (4 digits number) and check whether the number is narcissist number or not.\n",
    "\n",
    "class Num:\n",
    "    def __init__(self, number):\n",
    "        self.number = number\n",
    "    \n",
    "    def info(self):\n",
    "        num_str = str(self.number)\n",
    "        num_digits = len(num_str)\n",
    "        \n",
    "        return sum(int(digit) ** num_digits for digit in num_str) == self.number\n",
    "\n",
    "number = int(input(\"Enter a 4-digit number: \"))\n",
    "\n",
    "if len(str(number)) != 4:\n",
    "    print(\"Please enter a 4-digit number.\")\n",
    "else:\n",
    "    n1 = Num(number)\n",
    "    if n1.info():\n",
    "        print(number, \"is a narcissistic number.\")\n",
    "    else:\n",
    "        print(number, \"is not a narcissistic number.\")\n"
   ]
  },
  {
   "cell_type": "code",
   "execution_count": 11,
   "id": "d73ba59b-4fea-4e4c-aa90-680f9d4a5cd0",
   "metadata": {},
   "outputs": [
    {
     "name": "stdin",
     "output_type": "stream",
     "text": [
      "Enter a float number:  30.8\n"
     ]
    },
    {
     "name": "stdout",
     "output_type": "stream",
     "text": [
      "153.00\n"
     ]
    }
   ],
   "source": [
    "# Display float number with 2 decimal places using print().\n",
    "\n",
    "class Decimal:\n",
    "    def __init__(self, num):\n",
    "        self.num = num\n",
    "    \n",
    "    def Float(self):\n",
    "        print(f\"{self.num:.2f}\")\n",
    "\n",
    "\n",
    "number = float(input(\"Enter a float number: \"))\n",
    "\n",
    "d1 = Decimal(num)\n",
    "d1.Float()\n"
   ]
  },
  {
   "cell_type": "code",
   "execution_count": 15,
   "id": "3c965c60-c22d-4ae0-a21b-c81de6b7e916",
   "metadata": {},
   "outputs": [
    {
     "name": "stdin",
     "output_type": "stream",
     "text": [
      "Enter a number:  12\n"
     ]
    },
    {
     "name": "stdout",
     "output_type": "stream",
     "text": [
      "Factors of 12 are: [1, 3, 9, 17, 51, 153]\n"
     ]
    }
   ],
   "source": [
    "# Print all factors of a given number provided by the user.\n",
    "\n",
    "class Factor:\n",
    "    def __init__(self, num):\n",
    "        self.num = num\n",
    "    \n",
    "    def fact(self):\n",
    "        fact = []\n",
    "        for i in range(1, self.num + 1):\n",
    "            if self.num % i == 0:\n",
    "                fact.append(i)\n",
    "        return fact\n",
    "\n",
    "\n",
    "number = int(input(\"Enter a number: \"))\n",
    "\n",
    "f1 = Factor(num)\n",
    "f1 = f1.fact()\n",
    "\n",
    "print(\"Factors of\", number, \"are:\", f1)\n"
   ]
  },
  {
   "cell_type": "code",
   "execution_count": 28,
   "id": "de0a4066-f2b1-42ca-b7f0-b3ca1dc579c7",
   "metadata": {},
   "outputs": [
    {
     "name": "stdin",
     "output_type": "stream",
     "text": [
      "Enter float number 1:  2.14\n",
      "Enter float number 2:  3.21\n",
      "Enter float number 3:  6.65\n",
      "Enter float number 4:  2.32\n",
      "Enter float number 5:  9.0\n"
     ]
    },
    {
     "name": "stdout",
     "output_type": "stream",
     "text": [
      "Float numbers entered by the user: [2.14, 3.21, 6.65, 2.32, 9.0]\n"
     ]
    }
   ],
   "source": [
    "#Accept a list of 5 float numbers as an input from the user\n",
    "\n",
    "class Float:\n",
    "    def __init__(self):\n",
    "        self.float_numbers = []\n",
    "\n",
    "    def list1(self):\n",
    "        for i in range(5):\n",
    "            float_number = float(input(f\"Enter float number {i+1}: \"))\n",
    "            self.float_numbers.append(float_number)\n",
    "    \n",
    "    def list2(self):\n",
    "        print(\"Float numbers entered by the user:\", self.float_numbers)\n",
    "\n",
    "\n",
    "f = Float()\n",
    "f.list1()\n",
    "f.list2()\n"
   ]
  },
  {
   "cell_type": "code",
   "execution_count": null,
   "id": "33354447-7ce0-47a7-950b-52f61612b5e5",
   "metadata": {},
   "outputs": [],
   "source": [
    "#Write a program to find the volume of the cylinder. Also find the cost when ,when the cost of 1litre milk is 40Rs.\n",
    "\n"
   ]
  }
 ],
 "metadata": {
  "kernelspec": {
   "display_name": "Python 3 (ipykernel)",
   "language": "python",
   "name": "python3"
  },
  "language_info": {
   "codemirror_mode": {
    "name": "ipython",
    "version": 3
   },
   "file_extension": ".py",
   "mimetype": "text/x-python",
   "name": "python",
   "nbconvert_exporter": "python",
   "pygments_lexer": "ipython3",
   "version": "3.10.11"
  }
 },
 "nbformat": 4,
 "nbformat_minor": 5
}
