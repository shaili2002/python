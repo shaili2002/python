{
  "nbformat": 4,
  "nbformat_minor": 0,
  "metadata": {
    "colab": {
      "provenance": []
    },
    "kernelspec": {
      "name": "python3",
      "display_name": "Python 3"
    },
    "language_info": {
      "name": "python"
    }
  },
  "cells": [
    {
      "cell_type": "code",
      "source": [
        "for i in range(1,5):\n",
        "    for j in range(1,i):\n",
        "       print(\" \",end=\" \")\n",
        "    for k in range(i,5):\n",
        "       print(\"*\",end=\" \")\n",
        "    print(\"\")"
      ],
      "metadata": {
        "colab": {
          "base_uri": "https://localhost:8080/"
        },
        "id": "vuMefF_tSc3C",
        "outputId": "ab66d80b-5596-4094-aec3-c5e47750eb01"
      },
      "execution_count": 17,
      "outputs": [
        {
          "output_type": "stream",
          "name": "stdout",
          "text": [
            "* * * * \n",
            "  * * * \n",
            "    * * \n",
            "      * \n"
          ]
        }
      ]
    },
    {
      "cell_type": "code",
      "source": [
        "for i in range(1,5):\n",
        "    count=1\n",
        "    for j in range(1,i):\n",
        "       print(\" \",end=\" \")\n",
        "    for k in range(i,5):\n",
        "       print(count,end=\" \")\n",
        "       count+=1\n",
        "    print(\" \")"
      ],
      "metadata": {
        "colab": {
          "base_uri": "https://localhost:8080/"
        },
        "id": "QkS82CVyUQGV",
        "outputId": "7fda67f7-3056-41bf-e737-984628e82276"
      },
      "execution_count": 25,
      "outputs": [
        {
          "output_type": "stream",
          "name": "stdout",
          "text": [
            "1 2 3 4  \n",
            "  1 2 3  \n",
            "    1 2  \n",
            "      1  \n"
          ]
        }
      ]
    },
    {
      "cell_type": "code",
      "source": [
        "count=1\n",
        "for i in range(1,5):\n",
        "    for j in range(1,i):\n",
        "       print(\" \",end=\" \")\n",
        "    for k in range(i,5):\n",
        "       print(count,end=\" \")\n",
        "       count+=1\n",
        "    print(\" \")"
      ],
      "metadata": {
        "colab": {
          "base_uri": "https://localhost:8080/"
        },
        "id": "Cuo3uSA5XZP3",
        "outputId": "e97d0344-8fb0-4f31-8e47-519151ea6182"
      },
      "execution_count": 27,
      "outputs": [
        {
          "output_type": "stream",
          "name": "stdout",
          "text": [
            "1 2 3 4  \n",
            "  5 6 7  \n",
            "    8 9  \n",
            "      10  \n"
          ]
        }
      ]
    }
  ]
}