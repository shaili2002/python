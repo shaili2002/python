{
 "cells": [
  {
   "cell_type": "code",
   "execution_count": 2,
   "id": "0e09181c-fe68-4d09-9718-0d2ccf59d97c",
   "metadata": {},
   "outputs": [
    {
     "data": {
      "text/plain": [
       "8000"
      ]
     },
     "execution_count": 2,
     "metadata": {},
     "output_type": "execute_result"
    }
   ],
   "source": [
    "class Student:\n",
    "    def __init__(self,fee):\n",
    "        self.fee=fee\n",
    "\n",
    "    @property #decorater\n",
    "    def convert(self):\n",
    "        return self.fee*80\n",
    "\n",
    "s1=Student(100)\n",
    "s1.convert"
   ]
  },
  {
   "cell_type": "code",
   "execution_count": 4,
   "id": "fc3ce9e7-be46-4869-b05e-9e49524f1530",
   "metadata": {},
   "outputs": [
    {
     "data": {
      "text/plain": [
       "80"
      ]
     },
     "execution_count": 4,
     "metadata": {},
     "output_type": "execute_result"
    }
   ],
   "source": [
    "#static method\n",
    "\n",
    "class Student:\n",
    "    def __init__(self,fee):\n",
    "        self.fee=fee\n",
    "\n",
    "    @staticmethod #decorater related to class not to object,does not  changes related to  the class method for change.\n",
    "    def convert():\n",
    "        return 80\n",
    "\n",
    "s1=Student(100)\n",
    "s1.convert()"
   ]
  },
  {
   "cell_type": "code",
   "execution_count": 6,
   "id": "52d7ec2d-8edb-4b74-a91c-75be8544fc4b",
   "metadata": {},
   "outputs": [
    {
     "data": {
      "text/plain": [
       "60"
      ]
     },
     "execution_count": 6,
     "metadata": {},
     "output_type": "execute_result"
    }
   ],
   "source": [
    "class Student:\n",
    "    def __init__(self,fee):\n",
    "        self.fee=fee\n",
    "\n",
    "    @staticmethod \n",
    "    def convert(x,y):\n",
    "        return x+y\n",
    "\n",
    "Student.convert(20,40)"
   ]
  },
  {
   "cell_type": "code",
   "execution_count": 16,
   "id": "737d7b7d-3dea-46bb-ab7b-0417eb46aa5d",
   "metadata": {},
   "outputs": [
    {
     "data": {
      "text/plain": [
       "dollar class has values 25"
      ]
     },
     "execution_count": 16,
     "metadata": {},
     "output_type": "execute_result"
    }
   ],
   "source": [
    "#class method\n",
    "\n",
    "class dollar:\n",
    "    def __init__(self,amount):\n",
    "     self.amount=amount\n",
    "    def __repr__(self):\n",
    "        return f\"dollar class has values {self.amount}\"\n",
    "    @staticmethod\n",
    "    def convert(x,y):\n",
    "        return dollar(x+y)\n",
    "\n",
    "d1=dollar(100)\n",
    "d1.convert(10,15)"
   ]
  },
  {
   "cell_type": "code",
   "execution_count": 21,
   "id": "b2efbd69-887d-45ae-bd8d-5286a04de72e",
   "metadata": {},
   "outputs": [
    {
     "data": {
      "text/plain": [
       "Euro class has the values 110"
      ]
     },
     "execution_count": 21,
     "metadata": {},
     "output_type": "execute_result"
    }
   ],
   "source": [
    "#class method\n",
    "class Dollar:\n",
    "    def __init__(self,amount):\n",
    "     self.amount=amount\n",
    "    def __repr__(self):\n",
    "        return f\"Dollar class has values {self.amount}\"\n",
    "    @classmethod\n",
    "    def convert(cls,x,y):\n",
    "        return cls(x+y)\n",
    "\n",
    "class Euro(Dollar):\n",
    "    def __init__(self,amount):\n",
    "        super().__init__(amount)\n",
    "\n",
    "    def __repr__(self):\n",
    "        return f\"Euro class has the values {self.amount}\"\n",
    "\n",
    "e1=Euro(90)\n",
    "e1.convert(60,50)\n",
    "\n"
   ]
  }
 ],
 "metadata": {
  "kernelspec": {
   "display_name": "Python 3 (ipykernel)",
   "language": "python",
   "name": "python3"
  },
  "language_info": {
   "codemirror_mode": {
    "name": "ipython",
    "version": 3
   },
   "file_extension": ".py",
   "mimetype": "text/x-python",
   "name": "python",
   "nbconvert_exporter": "python",
   "pygments_lexer": "ipython3",
   "version": "3.10.11"
  }
 },
 "nbformat": 4,
 "nbformat_minor": 5
}
