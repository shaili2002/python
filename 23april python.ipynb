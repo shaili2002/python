{
 "cells": [
  {
   "cell_type": "code",
   "execution_count": 56,
   "id": "0b58d874-87f1-4348-b306-d836680a2598",
   "metadata": {},
   "outputs": [
    {
     "name": "stdout",
     "output_type": "stream",
     "text": [
      "* * * * \n",
      "* * * \n",
      "* * \n",
      "* \n"
     ]
    }
   ],
   "source": [
    "for i in range(5,1,-1):\n",
    "    for j in range(i-1):\n",
    "     print(\"*\",end=\" \")\n",
    "    print(\"\")"
   ]
  },
  {
   "cell_type": "code",
   "execution_count": 85,
   "id": "2667fbed-b2a9-4c9f-b8f3-efea3e0719b7",
   "metadata": {},
   "outputs": [
    {
     "name": "stdout",
     "output_type": "stream",
     "text": [
      "10 \n",
      "11 12 \n",
      "13 14 15 \n"
     ]
    }
   ],
   "source": [
    "num=10\n",
    "for i in range(3):\n",
    "    for j in range(i+1): \n",
    "        print(num,end=\" \") \n",
    "        num=num+1\n",
    "    print(\"\")"
   ]
  },
  {
   "cell_type": "code",
   "execution_count": 86,
   "id": "3eb5d7f0-e276-4ae9-93ee-6320bfe3f1fe",
   "metadata": {},
   "outputs": [
    {
     "name": "stdout",
     "output_type": "stream",
     "text": [
      "10 \n",
      "10 11 \n",
      "10 11 12 \n",
      "10 11 12 13 \n"
     ]
    }
   ],
   "source": [
    "for i in range(10,14):\n",
    "    for j in range(10,i+1):\n",
    "     print(j,end=\" \")\n",
    "    print(\"\")"
   ]
  },
  {
   "cell_type": "code",
   "execution_count": 129,
   "id": "df9dcc1d-1e96-4f16-bd7e-db0df717d785",
   "metadata": {},
   "outputs": [
    {
     "name": "stdout",
     "output_type": "stream",
     "text": [
      "A \n",
      "A B \n",
      "A B C \n",
      "A B C D \n"
     ]
    }
   ],
   "source": [
    "for i in range(4):\n",
    "    for j in range(i+1):\n",
    "        print(chr(j+65),end=\" \") \n",
    "        char+=1\n",
    "    print(\"\")"
   ]
  },
  {
   "cell_type": "code",
   "execution_count": 170,
   "id": "3d8396e0-4bd7-426d-956f-b0615be87f7e",
   "metadata": {},
   "outputs": [
    {
     "name": "stdout",
     "output_type": "stream",
     "text": [
      "d \n",
      "d c \n",
      "d c b \n",
      "d c b a \n"
     ]
    }
   ],
   "source": [
    "word = 'dcba'\n",
    "\n",
    "for i in range(len(word)):\n",
    "    for j in range(i+1):\n",
    "        print(word[j], end=' ')\n",
    "    print()"
   ]
  },
  {
   "cell_type": "code",
   "execution_count": 159,
   "id": "ee7f2756-dd1f-4883-9883-3f91fa8bd113",
   "metadata": {},
   "outputs": [
    {
     "name": "stdout",
     "output_type": "stream",
     "text": [
      "d c b a \n",
      "d c b \n",
      "d c \n",
      "d \n",
      "\n"
     ]
    }
   ],
   "source": [
    "word = 'dcba'\n",
    "for i in range(5,0,-1):\n",
    "    for j in range(i-1):\n",
    "        print(word[j], end=\" \")\n",
    "    print()"
   ]
  },
  {
   "cell_type": "code",
   "execution_count": 176,
   "id": "ac3a32b2-4e11-4dd8-89f0-3179d418b001",
   "metadata": {},
   "outputs": [
    {
     "name": "stdout",
     "output_type": "stream",
     "text": [
      "1 \n",
      "1 2 \n",
      "1 2 1 \n",
      "1 2 1 2 \n",
      "1 2 1 2 1 \n"
     ]
    }
   ],
   "source": [
    "for i in range(1,6):\n",
    "    for j in range(1,i+1):\n",
    "        if j%2==0:\n",
    "            print(\"2\",end=\" \")\n",
    "        else:\n",
    "            print(\"1\",end=\" \")\n",
    "    print()"
   ]
  },
  {
   "cell_type": "code",
   "execution_count": 171,
   "id": "21400816-4ec4-46bb-999d-11e14080acb6",
   "metadata": {},
   "outputs": [
    {
     "name": "stdout",
     "output_type": "stream",
     "text": [
      "F \n",
      "H J \n",
      "L N P \n",
      "R T V X \n"
     ]
    }
   ],
   "source": [
    "n=4\n",
    "n1=70\n",
    "for i in range(0,n):\n",
    "    for j in range(0,i+1):\n",
    "        ch=chr(n1)\n",
    "        print(ch,end=\" \")\n",
    "        n1=n1+2\n",
    "    print(\"\")    "
   ]
  }
 ],
 "metadata": {
  "kernelspec": {
   "display_name": "Python 3 (ipykernel)",
   "language": "python",
   "name": "python3"
  },
  "language_info": {
   "codemirror_mode": {
    "name": "ipython",
    "version": 3
   },
   "file_extension": ".py",
   "mimetype": "text/x-python",
   "name": "python",
   "nbconvert_exporter": "python",
   "pygments_lexer": "ipython3",
   "version": "3.12.2"
  }
 },
 "nbformat": 4,
 "nbformat_minor": 5
}
