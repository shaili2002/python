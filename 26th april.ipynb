{
  "nbformat": 4,
  "nbformat_minor": 0,
  "metadata": {
    "colab": {
      "provenance": []
    },
    "kernelspec": {
      "name": "python3",
      "display_name": "Python 3"
    },
    "language_info": {
      "name": "python"
    }
  },
  "cells": [
    {
      "cell_type": "code",
      "execution_count": 4,
      "metadata": {
        "colab": {
          "base_uri": "https://localhost:8080/"
        },
        "id": "O25UiVbDgUDz",
        "outputId": "ecdc9a29-2868-4b3b-a937-88f67bdff3c7"
      },
      "outputs": [
        {
          "output_type": "stream",
          "name": "stdout",
          "text": [
            "['hey', 'shaily', 'hey'] <class 'list'>\n"
          ]
        }
      ],
      "source": [
        "data=\"hey shaily hey\"\n",
        "x=data.split(\" \")\n",
        "print(x,type(x))"
      ]
    },
    {
      "cell_type": "code",
      "source": [
        "data=\"hey tushar hey hello hey user user hey\"\n",
        "mylist=data.split(\" \")\n",
        "for i in mylist:\n",
        "  print(i)"
      ],
      "metadata": {
        "colab": {
          "base_uri": "https://localhost:8080/"
        },
        "id": "L40BMSdDh7r7",
        "outputId": "1b856aef-0488-487e-bf03-c74906720a7b"
      },
      "execution_count": 5,
      "outputs": [
        {
          "output_type": "stream",
          "name": "stdout",
          "text": [
            "hey\n",
            "tushar\n",
            "hey\n",
            "hello\n",
            "hey\n",
            "user\n",
            "user\n",
            "hey\n"
          ]
        }
      ]
    },
    {
      "cell_type": "code",
      "source": [
        "data=\"hey tushar hey hello hey user user hey\"\n",
        "mylist=data.split()\n",
        "newlist=[]\n",
        "for i in mylist:\n",
        "  if (i not in newlist):\n",
        "    newlist.append(i)\n",
        "print(newlist)"
      ],
      "metadata": {
        "colab": {
          "base_uri": "https://localhost:8080/"
        },
        "id": "gfXpRkrrjchw",
        "outputId": "209cd57f-17dd-4cba-d4e1-25d496666c5f"
      },
      "execution_count": 10,
      "outputs": [
        {
          "output_type": "stream",
          "name": "stdout",
          "text": [
            "['hey', 'tushar', 'hello', 'user']\n"
          ]
        }
      ]
    },
    {
      "cell_type": "code",
      "source": [
        "mytuple=10,\"hey\",30.0\n",
        "print(type(mytuple))"
      ],
      "metadata": {
        "colab": {
          "base_uri": "https://localhost:8080/"
        },
        "id": "XM9WrtrwkIMq",
        "outputId": "b7a34734-98f7-489b-bb62-f115e70c7de5"
      },
      "execution_count": 16,
      "outputs": [
        {
          "output_type": "stream",
          "name": "stdout",
          "text": [
            "<class 'tuple'>\n"
          ]
        }
      ]
    },
    {
      "cell_type": "code",
      "source": [
        "mytuple=mytuple+(10,20,30)\n",
        "print(mytuple)\n"
      ],
      "metadata": {
        "colab": {
          "base_uri": "https://localhost:8080/"
        },
        "id": "7Qa9UKrzlws8",
        "outputId": "1ff86d6b-745c-425f-d929-8a6afdc554bc"
      },
      "execution_count": 14,
      "outputs": [
        {
          "output_type": "stream",
          "name": "stdout",
          "text": [
            "(10, 'hey', 30.0, 10, 20, 30, 10, 20, 30)\n"
          ]
        }
      ]
    },
    {
      "cell_type": "code",
      "source": [
        "mytuple=mytuple+(10,20,30)\n",
        "id(mytuple)"
      ],
      "metadata": {
        "colab": {
          "base_uri": "https://localhost:8080/"
        },
        "id": "nfCJbH4Ml-4Q",
        "outputId": "46720bfd-00eb-4fc4-99cc-f976bc9cbdb5"
      },
      "execution_count": 15,
      "outputs": [
        {
          "output_type": "execute_result",
          "data": {
            "text/plain": [
              "136286499718048"
            ]
          },
          "metadata": {},
          "execution_count": 15
        }
      ]
    },
    {
      "cell_type": "code",
      "source": [
        "x=153\n",
        "originalnum=x\n",
        "total=0\n",
        "while(x>0):\n",
        "  rem=x%10\n",
        "  total += rem**3\n",
        "\n",
        "  x=x//10\n",
        "if(total==originalnum):\n",
        "  print(\"Armstrong number\")\n",
        "else:\n",
        "  print(\"not Armstrong number\")\n",
        "print(total)"
      ],
      "metadata": {
        "colab": {
          "base_uri": "https://localhost:8080/"
        },
        "id": "QADOPmLstHrt",
        "outputId": "3617ab25-7749-4357-a5bc-c9713bec55a8"
      },
      "execution_count": 21,
      "outputs": [
        {
          "output_type": "stream",
          "name": "stdout",
          "text": [
            "Armstrong number\n",
            "153\n"
          ]
        }
      ]
    }
  ]
}
