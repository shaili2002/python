{
 "cells": [
  {
   "cell_type": "code",
   "execution_count": 3,
   "id": "aea83f49-ae2d-46cb-b506-b63794f2dd1f",
   "metadata": {},
   "outputs": [
    {
     "name": "stdout",
     "output_type": "stream",
     "text": [
      "calling the father class\n"
     ]
    }
   ],
   "source": [
    "#polymorephism\n",
    "#many,form\n",
    "#variable,object,function(diffrent perform)\n",
    "\n",
    "class Father:\n",
    "     def info(self):\n",
    "         print(\"calling the father class\")\n",
    "\n",
    "class Son(Father):\n",
    "     def sinfo(self):\n",
    "         print(\"calling the son class\")\n",
    "\n",
    "s1=Son()\n",
    "s1.info()"
   ]
  },
  {
   "cell_type": "code",
   "execution_count": 16,
   "id": "3c64e408-26b4-4e10-ad44-2b0d3d2f5b97",
   "metadata": {},
   "outputs": [
    {
     "data": {
      "text/plain": [
       "Example class object has: 30 & 50"
      ]
     },
     "execution_count": 16,
     "metadata": {},
     "output_type": "execute_result"
    }
   ],
   "source": [
    "#operator overloading\n",
    "\n",
    "class Example:\n",
    "    def __init__(self,x,y):\n",
    "        self.num1=x\n",
    "        self.num2=y\n",
    "#__func__ (dunder method)\n",
    "    def __repr__(self):\n",
    "        return f\"Example class object has: {self.num1} & {self.num2}\"\n",
    "\n",
    "    def __add__(self,obj2):\n",
    "        x1=self.num1+obj2.num1\n",
    "        y1=self.num2+obj2.num2\n",
    "        return Example(x1,y1)\n",
    "        \n",
    "        \n",
    "e1=Example(20,10)\n",
    "e2=Example(10,40)\n",
    "e1+e2"
   ]
  }
 ],
 "metadata": {
  "kernelspec": {
   "display_name": "Python 3 (ipykernel)",
   "language": "python",
   "name": "python3"
  },
  "language_info": {
   "codemirror_mode": {
    "name": "ipython",
    "version": 3
   },
   "file_extension": ".py",
   "mimetype": "text/x-python",
   "name": "python",
   "nbconvert_exporter": "python",
   "pygments_lexer": "ipython3",
   "version": "3.10.11"
  }
 },
 "nbformat": 4,
 "nbformat_minor": 5
}
