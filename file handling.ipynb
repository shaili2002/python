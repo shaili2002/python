{
 "cells": [
  {
   "cell_type": "code",
   "execution_count": 3,
   "id": "72b56129-f3d8-40d5-9c66-8bddfa9b60db",
   "metadata": {},
   "outputs": [
    {
     "name": "stdout",
     "output_type": "stream",
     "text": [
      "hi good morning\n"
     ]
    }
   ],
   "source": [
    "fileobj= open(\"shaily.txt\")\n",
    "out=fileobj.read()\n",
    "fileobj.close()\n",
    "print(out)"
   ]
  },
  {
   "cell_type": "code",
   "execution_count": 10,
   "id": "953f4143-eca2-48e0-8362-2dd5217b5f37",
   "metadata": {},
   "outputs": [],
   "source": [
    "f = open(\"shaily.txt\",\"w\")\n",
    "out=f.write(\"user\")\n",
    "f.close()"
   ]
  },
  {
   "cell_type": "code",
   "execution_count": 7,
   "id": "b3894097-831d-431f-b405-d41ba6c84cf4",
   "metadata": {},
   "outputs": [
    {
     "name": "stdout",
     "output_type": "stream",
     "text": [
      "er\n"
     ]
    }
   ],
   "source": [
    "f = open(\"shaily.txt\",\"r+\")\n",
    "f.write(\"$$\")\n",
    "print(f.read())\n",
    "f.close()\n",
    "         "
   ]
  },
  {
   "cell_type": "code",
   "execution_count": 11,
   "id": "715bba70-60e6-4d6f-bfd5-336f3d0d008f",
   "metadata": {},
   "outputs": [
    {
     "name": "stdout",
     "output_type": "stream",
     "text": [
      "12\n",
      "5\n",
      "ysharma\n"
     ]
    }
   ],
   "source": [
    "f=open(\"shaily.txt\",\"w+\")\n",
    "f.write(\"shailysharma\")\n",
    "print(f.tell())\n",
    "\n",
    "f.seek(5)\n",
    "print(f.tell())\n",
    "print(f.read())\n",
    "f.close()"
   ]
  },
  {
   "cell_type": "code",
   "execution_count": 20,
   "id": "2bc9e257-155d-4021-848c-31c23466b246",
   "metadata": {},
   "outputs": [
    {
     "name": "stdout",
     "output_type": "stream",
     "text": [
      "shailysharma\n",
      "sharma\n",
      "ss\n"
     ]
    }
   ],
   "source": [
    "with open(\"shaily.txt\",\"r\") as a:\n",
    "    x=a.read()\n",
    "\n",
    "print(x)"
   ]
  },
  {
   "cell_type": "code",
   "execution_count": 19,
   "id": "28136ee5-c2ca-42f7-8f34-aa4793ec9613",
   "metadata": {},
   "outputs": [
    {
     "name": "stdout",
     "output_type": "stream",
     "text": [
      "shailysharma\n",
      "\n",
      "sharma\n",
      "\n",
      "ss\n"
     ]
    }
   ],
   "source": [
    "with open(\"shaily.txt\",\"r\") as a:\n",
    "    for line in a:\n",
    "        print(line)"
   ]
  },
  {
   "cell_type": "code",
   "execution_count": 18,
   "id": "4672f03d-4b98-4841-9571-ffb1b9169383",
   "metadata": {},
   "outputs": [
    {
     "name": "stdout",
     "output_type": "stream",
     "text": [
      "shailysharma\n",
      "sharma\n",
      "ss\n"
     ]
    }
   ],
   "source": [
    "with open(\"shaily.txt\",\"r\") as a:\n",
    "    for line in a:\n",
    "        print(line.strip())"
   ]
  },
  {
   "cell_type": "code",
   "execution_count": 22,
   "id": "f2e31679-0677-450a-89c4-9ad94f07537b",
   "metadata": {},
   "outputs": [
    {
     "name": "stdout",
     "output_type": "stream",
     "text": [
      "['shailysharma']\n"
     ]
    }
   ],
   "source": [
    "import csv\n",
    "a=open(\"shaily.txt\")\n",
    "csv_a=csv.reader(a)\n",
    "for line in csv_a:\n",
    "    print(line)\n",
    "    break "
   ]
  }
 ],
 "metadata": {
  "kernelspec": {
   "display_name": "Python 3 (ipykernel)",
   "language": "python",
   "name": "python3"
  },
  "language_info": {
   "codemirror_mode": {
    "name": "ipython",
    "version": 3
   },
   "file_extension": ".py",
   "mimetype": "text/x-python",
   "name": "python",
   "nbconvert_exporter": "python",
   "pygments_lexer": "ipython3",
   "version": "3.10.11"
  }
 },
 "nbformat": 4,
 "nbformat_minor": 5
}
