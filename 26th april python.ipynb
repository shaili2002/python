{
  "nbformat": 4,
  "nbformat_minor": 0,
  "metadata": {
    "colab": {
      "provenance": []
    },
    "kernelspec": {
      "name": "python3",
      "display_name": "Python 3"
    },
    "language_info": {
      "name": "python"
    }
  },
  "cells": [
    {
      "cell_type": "code",
      "execution_count": 2,
      "metadata": {
        "colab": {
          "base_uri": "https://localhost:8080/"
        },
        "id": "NJJSxjAU1MSG",
        "outputId": "10220076-2ea1-44ae-f4c9-810004aaee53"
      },
      "outputs": [
        {
          "output_type": "stream",
          "name": "stdout",
          "text": [
            "Armstrong number\n",
            "1634\n"
          ]
        }
      ],
      "source": [
        "x=1634\n",
        "originalnum=x\n",
        "total=0\n",
        "while(x>0):\n",
        "  rem=x%10\n",
        "  total += rem**4\n",
        "\n",
        "  x=x//10\n",
        "if(total==originalnum):\n",
        "  print(\"Armstrong number\")\n",
        "else:\n",
        "  print(\"not Armstrong number\")\n",
        "print(total)"
      ]
    },
    {
      "cell_type": "code",
      "source": [
        "data = \"hey hello user shaily shaily hello\"\n",
        "mylist = data.split()\n",
        "newlist = []\n",
        "\n",
        "for i in mylist:\n",
        "    if mylist.count(i) == 1:\n",
        "        newlist.append(i)\n",
        "\n",
        "print(newlist)\n"
      ],
      "metadata": {
        "id": "JkIpe7gvGJ29",
        "outputId": "ca5c7ec7-4900-406e-d29c-ba7e99734af3",
        "colab": {
          "base_uri": "https://localhost:8080/"
        }
      },
      "execution_count": 34,
      "outputs": [
        {
          "output_type": "stream",
          "name": "stdout",
          "text": [
            "['hey', 'user']\n"
          ]
        }
      ]
    }
  ]
}
