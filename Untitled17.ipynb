{
  "nbformat": 4,
  "nbformat_minor": 0,
  "metadata": {
    "colab": {
      "provenance": []
    },
    "kernelspec": {
      "name": "python3",
      "display_name": "Python 3"
    },
    "language_info": {
      "name": "python"
    }
  },
  "cells": [
    {
      "cell_type": "code",
      "source": [
        "tuple1 = (1, 2, 3)\n",
        "tuple2 = (4, 5, 6)\n",
        "\n",
        "result = tuple(x + y for x, y in zip(tuple1, tuple2))\n",
        "print(result)\n"
      ],
      "metadata": {
        "colab": {
          "base_uri": "https://localhost:8080/"
        },
        "id": "Xzdaj7lOVW6G",
        "outputId": "f769c16f-5954-49d9-a3e9-e903d648fe23"
      },
      "execution_count": 1,
      "outputs": [
        {
          "output_type": "stream",
          "name": "stdout",
          "text": [
            "(5, 7, 9)\n"
          ]
        }
      ]
    },
    {
      "cell_type": "code",
      "source": [
        "my_list=[2,4,6,8,10]\n",
        "\n",
        "sorted_list = (my_list)\n",
        "length= len(sorted_list)\n",
        "if length%2==0:\n",
        "  median=[my_list//2]\n",
        "else:\n",
        "  median=sorted_list[length//2]\n",
        "print(\"median of the list:\", median)"
      ],
      "metadata": {
        "colab": {
          "base_uri": "https://localhost:8080/"
        },
        "id": "I0IlbGiQWNuq",
        "outputId": "40f03132-dd93-4018-ce2a-0196927cd282"
      },
      "execution_count": 3,
      "outputs": [
        {
          "output_type": "stream",
          "name": "stdout",
          "text": [
            "median of the list: 6\n"
          ]
        }
      ]
    },
    {
      "cell_type": "code",
      "source": [
        "my_tuple=[2,3,5,7,8,9]\n",
        "maximum= max(my_tuple)\n",
        "minimum= min(my_tuple)\n",
        "\n",
        "print(\"Maximum:\",maximum)\n",
        "print(\"Minimum:\",minimum)"
      ],
      "metadata": {
        "colab": {
          "base_uri": "https://localhost:8080/"
        },
        "id": "lAFSJHSkYoU_",
        "outputId": "77ac43e7-2f58-4d2a-958c-85356ea26b52"
      },
      "execution_count": 4,
      "outputs": [
        {
          "output_type": "stream",
          "name": "stdout",
          "text": [
            "Maximum: 9\n",
            "Minimum: 2\n"
          ]
        }
      ]
    },
    {
      "cell_type": "code",
      "source": [
        "set1={2,3,4}\n",
        "set2={\"a\",\"b\",\"c\"}\n",
        "\n",
        "cartesian={(x,y) for x in set1 for y in set2}\n",
        "print(\"cartesian for two sets:\", cartesian)\n",
        "\n"
      ],
      "metadata": {
        "colab": {
          "base_uri": "https://localhost:8080/"
        },
        "id": "U6RAzwabZUr6",
        "outputId": "de6c2f3d-4d9f-446b-ede8-618a620dcd70"
      },
      "execution_count": 9,
      "outputs": [
        {
          "output_type": "stream",
          "name": "stdout",
          "text": [
            "cartesian for two sets: {(4, 'b'), (3, 'c'), (4, 'a'), (2, 'b'), (3, 'b'), (2, 'a'), (3, 'a'), (4, 'c'), (2, 'c')}\n"
          ]
        }
      ]
    }
  ]
}