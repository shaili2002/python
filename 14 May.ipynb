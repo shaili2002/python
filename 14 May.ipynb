{
 "cells": [
  {
   "cell_type": "code",
   "execution_count": 1,
   "id": "24464efb-426e-45ef-a879-3f37b55cfb78",
   "metadata": {},
   "outputs": [
    {
     "data": {
      "text/plain": [
       "50"
      ]
     },
     "execution_count": 1,
     "metadata": {},
     "output_type": "execute_result"
    }
   ],
   "source": [
    "class father:\n",
    "    amount=100\n",
    "#parent\n",
    "class son (father):\n",
    "    salary=50\n",
    "\n",
    "s1=son()\n",
    "s1.amount\n",
    "\n",
    "class father(son):\n",
    "    salary=50\n",
    "\n",
    "f1=father()\n",
    "f1.salary"
   ]
  },
  {
   "cell_type": "code",
   "execution_count": 2,
   "id": "8b28ed37-2788-46f3-9d28-f164ca46c4f0",
   "metadata": {},
   "outputs": [
    {
     "data": {
      "text/plain": [
       "'sharma123@gmail.com'"
      ]
     },
     "execution_count": 2,
     "metadata": {},
     "output_type": "execute_result"
    }
   ],
   "source": [
    "class driver:\n",
    "    company=\"regex\"\n",
    "    def __init__(self,id,name,email):\n",
    "        self.id=id\n",
    "        self.name=name\n",
    "        self.email=email\n",
    "\n",
    "\n",
    "class customer (driver):\n",
    "    def __init__(self,cid,cname,cemail):\n",
    "        super().__init__(cid,cname,cemail)\n",
    "       # print(\"parent class variable:\",super().comapny)\n",
    "\n",
    "c1=customer(99,\"shaily\",\"sharma123@gmail.com\")\n",
    "c1.email\n",
    "    "
   ]
  },
  {
   "cell_type": "code",
   "execution_count": 3,
   "id": "ed5463b9-9e33-429f-9699-57dcad7089cb",
   "metadata": {},
   "outputs": [
    {
     "name": "stdout",
     "output_type": "stream",
     "text": [
      " Information is 11 & shaily\n"
     ]
    }
   ],
   "source": [
    "class driver:\n",
    "    company=\"regex\"\n",
    "    def __init__(self,id,name,email):\n",
    "        self.id=id\n",
    "        self.name=name\n",
    "        self.email=email\n",
    "\n",
    "    def dinfo(self):\n",
    "       print(f\" Information is {self.id} & {self.name}\")\n",
    "\n",
    "class customer (driver):\n",
    "    def __init__(self,cid,cname,cemail):\n",
    "        super().__init__(cid,cname,cemail)\n",
    "\n",
    "    def cinfo(self):\n",
    "        super().dinfo()\n",
    "\n",
    "c1=customer(11,\"shaily\",\"sharma123@gmail.com\")\n",
    "c1.cinfo()"
   ]
  },
  {
   "cell_type": "code",
   "execution_count": null,
   "id": "5b33fd55-7e36-4874-9df4-3afdcdb1dba1",
   "metadata": {},
   "outputs": [],
   "source": []
  }
 ],
 "metadata": {
  "kernelspec": {
   "display_name": "Python 3 (ipykernel)",
   "language": "python",
   "name": "python3"
  },
  "language_info": {
   "codemirror_mode": {
    "name": "ipython",
    "version": 3
   },
   "file_extension": ".py",
   "mimetype": "text/x-python",
   "name": "python",
   "nbconvert_exporter": "python",
   "pygments_lexer": "ipython3",
   "version": "3.10.11"
  }
 },
 "nbformat": 4,
 "nbformat_minor": 5
}
