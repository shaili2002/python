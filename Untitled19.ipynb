{
  "nbformat": 4,
  "nbformat_minor": 0,
  "metadata": {
    "colab": {
      "provenance": []
    },
    "kernelspec": {
      "name": "python3",
      "display_name": "Python 3"
    },
    "language_info": {
      "name": "python"
    }
  },
  "cells": [
    {
      "cell_type": "code",
      "execution_count": null,
      "metadata": {
        "id": "vQuWaAFe_0ua"
      },
      "outputs": [],
      "source": [
        "#function"
      ]
    },
    {
      "cell_type": "code",
      "source": [
        "def func():\n",
        "  print(\"hello\")\n",
        "#function call\n",
        "func()"
      ],
      "metadata": {
        "colab": {
          "base_uri": "https://localhost:8080/"
        },
        "id": "9wk-nsCeD8E1",
        "outputId": "c50a29a7-4136-4865-cc9d-ce95a001e703"
      },
      "execution_count": null,
      "outputs": [
        {
          "output_type": "stream",
          "name": "stdout",
          "text": [
            "hello\n"
          ]
        }
      ]
    },
    {
      "cell_type": "code",
      "source": [
        "def func(x,y):\n",
        "  print(x+y)\n",
        "func(10,20)"
      ],
      "metadata": {
        "colab": {
          "base_uri": "https://localhost:8080/"
        },
        "id": "--Y8AJ2oESqM",
        "outputId": "3c5bc86e-120b-4aae-eb41-7e36e1bb18b4"
      },
      "execution_count": null,
      "outputs": [
        {
          "output_type": "stream",
          "name": "stdout",
          "text": [
            "30\n"
          ]
        }
      ]
    },
    {
      "cell_type": "code",
      "source": [
        "def func(x,y):\n",
        "  return x+y\n",
        "out=func(4,10)\n",
        "print(\"out :\",out)\n"
      ],
      "metadata": {
        "colab": {
          "base_uri": "https://localhost:8080/"
        },
        "id": "F9A1mkPaGnkP",
        "outputId": "49409e2c-c466-48b7-c69e-001e02666e1e"
      },
      "execution_count": null,
      "outputs": [
        {
          "output_type": "stream",
          "name": "stdout",
          "text": [
            "out : 14\n"
          ]
        }
      ]
    },
    {
      "cell_type": "code",
      "source": [
        "def func(x,y):\n",
        "  print(x+y)\n",
        "out=func(2,10)\n",
        "print(out)"
      ],
      "metadata": {
        "colab": {
          "base_uri": "https://localhost:8080/"
        },
        "id": "z-5NeVc1Hbqp",
        "outputId": "da3d6426-a25c-4c63-f50e-100ebb4ffc16"
      },
      "execution_count": null,
      "outputs": [
        {
          "output_type": "stream",
          "name": "stdout",
          "text": [
            "12\n",
            "None\n"
          ]
        }
      ]
    },
    {
      "cell_type": "code",
      "source": [
        "def func(x,y):\n",
        " for i in range(5,-1):\n",
        "  print(\"*\",end=\"\")\n",
        " for j in range(i):\n",
        "   print(\"*\",end=\" \")\n"
      ],
      "metadata": {
        "id": "QmW-83ZTT8XN"
      },
      "execution_count": null,
      "outputs": []
    },
    {
      "cell_type": "code",
      "source": [
        "def func(x):\n",
        "  if x<=1:\n",
        "    return(False)\n",
        "  for i in range(2,x):\n",
        "    if x%i==0:\n",
        "        return False\n",
        "  return True\n",
        "my_list=[1,2,3,4,5,6,7,8,9,10]\n",
        "prime=[]\n",
        "for x in my_list:\n",
        "   if func(x):\n",
        "      prime.append(x)\n",
        "print(prime)"
      ],
      "metadata": {
        "colab": {
          "base_uri": "https://localhost:8080/"
        },
        "id": "FB5AssN6WONx",
        "outputId": "8a5a949d-a91c-48b1-fcd8-0ee722aec5b5"
      },
      "execution_count": null,
      "outputs": [
        {
          "output_type": "stream",
          "name": "stdout",
          "text": [
            "[2, 3, 5, 7]\n"
          ]
        }
      ]
    },
    {
      "cell_type": "code",
      "source": [
        "def func():\n",
        " for i in range(5,0,-1):\n",
        "    for j in range(5-i):\n",
        "        print(\" \",end=\" \")\n",
        "\n",
        "    for j in range(1,i+1):\n",
        "      print(\"*\",end=\" \")\n",
        "    for j in range(i-1,0,-1):\n",
        "      print(\"*\",end=\" \")\n",
        "    print(\"\")\n",
        "\n",
        "func()\n"
      ],
      "metadata": {
        "colab": {
          "base_uri": "https://localhost:8080/"
        },
        "id": "HTB_7B_pw4lQ",
        "outputId": "e66f2b5e-4afa-4db3-8d8e-5ad194f0b9e1"
      },
      "execution_count": 73,
      "outputs": [
        {
          "output_type": "stream",
          "name": "stdout",
          "text": [
            "* * * * * * * * * \n",
            "  * * * * * * * \n",
            "    * * * * * \n",
            "      * * * \n",
            "        * \n"
          ]
        }
      ]
    },
    {
      "cell_type": "code",
      "source": [
        "def func(num):\n",
        "\n",
        "    if isinstance(num, int):\n",
        "\n",
        "        print(\"The provided integer is:\", num)\n",
        "    else:\n",
        "        print(\"Error: The parameter is not an integer.\")\n",
        "\n",
        "\n",
        "func(20)\n",
        "func(\"shaily\")"
      ],
      "metadata": {
        "colab": {
          "base_uri": "https://localhost:8080/"
        },
        "id": "Xs7GgdW02r5u",
        "outputId": "8a6e67ab-ad99-4542-8600-d7c73866fb3b"
      },
      "execution_count": 82,
      "outputs": [
        {
          "output_type": "stream",
          "name": "stdout",
          "text": [
            "The provided integer is: 20\n",
            "Error: The parameter is not an integer.\n"
          ]
        }
      ]
    },
    {
      "cell_type": "code",
      "source": [
        "def func(x, y):\n",
        "\n",
        "    if x > y:\n",
        "        greater = x\n",
        "    else:\n",
        "        greater = y\n",
        "\n",
        "    while True:\n",
        "        if (greater % x == 0) and (greater % y == 0):\n",
        "            lcm = greater\n",
        "            break\n",
        "        greater += 1\n",
        "\n",
        "    return lcm\n",
        "\n",
        "num1 = 6\n",
        "num2 = 4\n",
        "print(\"The LCM of\", num1, \"and\", num2, \"is\", func(num1,num2))"
      ],
      "metadata": {
        "colab": {
          "base_uri": "https://localhost:8080/"
        },
        "id": "prjbGSNZ5iMv",
        "outputId": "8d0d3b7d-9231-4841-dfde-cc03011b6d9b"
      },
      "execution_count": 84,
      "outputs": [
        {
          "output_type": "stream",
          "name": "stdout",
          "text": [
            "The LCM of 6 and 4 is 12\n"
          ]
        }
      ]
    }
  ]
}