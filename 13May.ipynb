{
 "cells": [
  {
   "cell_type": "code",
   "execution_count": null,
   "id": "76af3187-1355-4e07-b261-a39053a0a53a",
   "metadata": {},
   "outputs": [],
   "source": [
    "#classes and object\n",
    "#real time entity - char and behaviour\n",
    "#class- blue print\n",
    "\n",
    "#object- instance of class\n",
    "#behaviour- class method/function\n",
    "\n",
    "\n"
   ]
  },
  {
   "cell_type": "code",
   "execution_count": 4,
   "id": "5cef15f0-4cc6-45fc-a450-fcfdf23927a5",
   "metadata": {},
   "outputs": [
    {
     "name": "stdout",
     "output_type": "stream",
     "text": [
      "white 5\n",
      "5\n"
     ]
    }
   ],
   "source": [
    "class house:\n",
    "    color=\"white\"\n",
    "    room=5\n",
    "h1=house()\n",
    "print(h1.color,h1.room)\n",
    "\n",
    "h2=house()\n",
    "print(h2.room)\n",
    "\n"
   ]
  },
  {
   "cell_type": "code",
   "execution_count": 9,
   "id": "84a37dc7-c479-4e00-b9d4-2769ca852478",
   "metadata": {},
   "outputs": [
    {
     "name": "stdout",
     "output_type": "stream",
     "text": [
      "house has char : Yellow 5\n"
     ]
    }
   ],
   "source": [
    "class house:\n",
    "    #class variable: can be accessed by class and object\n",
    "    color=\"white\"\n",
    "    room=5\n",
    "\n",
    "    def info(self):\n",
    "        print(\"house has char :\",self.color,self.room)\n",
    "#object\n",
    "h1=house()\n",
    "h1.color=\"Yellow\"\n",
    "h1.info()"
   ]
  },
  {
   "cell_type": "code",
   "execution_count": 23,
   "id": "49796168-a33a-4f9d-9484-0640119b8ac9",
   "metadata": {},
   "outputs": [
    {
     "name": "stdout",
     "output_type": "stream",
     "text": [
      "hey\n",
      "hey <__main__.house object at 0x000002F877F4FC40>\n",
      "<__main__.house object at 0x000002F877F4FC40>\n",
      "\n",
      "hey\n",
      "hey <__main__.house object at 0x000002F877F4E410>\n",
      "<__main__.house object at 0x000002F877F4E410>\n"
     ]
    }
   ],
   "source": [
    "#self is a parameter that hold current memory address of object\n",
    "# house() is basically a constructer of a class \n",
    "#construct is the function\n",
    "# function is __init__()\n",
    "\n",
    "class house: \n",
    "    def __init__(self): #constructor init the memory for object\n",
    "     print(\"hey\")\n",
    "     print(\"hey\",self)\n",
    "h1=house()\n",
    "print(h1)\n",
    "\n",
    "print()\n",
    "\n",
    "h2=house()\n",
    "print(h2)"
   ]
  },
  {
   "cell_type": "code",
   "execution_count": 33,
   "id": "89c83532-552e-4e1e-8b96-9389b56c78ac",
   "metadata": {},
   "outputs": [
    {
     "name": "stdout",
     "output_type": "stream",
     "text": [
      "black\n"
     ]
    }
   ],
   "source": [
    "class house: \n",
    "    def __init__(self,color,room):\n",
    "        self.color=color\n",
    "        self.room=room\n",
    "\n",
    "\n",
    "h2=house(\"green\",5)\n",
    "h2.room\n",
    "\n",
    "h12=house(\"black\",10)\n",
    "print(h12.color)\n",
    "\n"
   ]
  },
  {
   "cell_type": "code",
   "execution_count": null,
   "id": "d3e8fb5c-4ae5-4465-b6bc-33c1b86bd4b9",
   "metadata": {},
   "outputs": [],
   "source": [
    "#company class varibale ,instance avriable emp id,ename,salary,company"
   ]
  },
  {
   "cell_type": "code",
   "execution_count": 11,
   "id": "3df852bd-ed15-485a-a089-1e97f008edaf",
   "metadata": {},
   "outputs": [
    {
     "name": "stdout",
     "output_type": "stream",
     "text": [
      "ename: shaily\n",
      "email: 10\n",
      "esalary: sharma123@gmail.com\n"
     ]
    }
   ],
   "source": [
    "class Employee:\n",
    "    company=\"regex software\"\n",
    "    \n",
    "    def __init__(self,ename,email,esalary,eid):\n",
    "        self.ename= ename\n",
    "        self.email= email\n",
    "        self.esalary= esalary\n",
    "        self.eid = eid\n",
    "        \n",
    "\n",
    "    def information(self):   \n",
    "        print(\"ename:\" , self.ename)\n",
    "        print(\"email:\" , self.email)\n",
    "        print(\"esalary:\" , self.esalary)\n",
    "\n",
    "E1=Employee(\"shaily\",10,\"sharma123@gmail.com\",500000)\n",
    "E1.information()"
   ]
  },
  {
   "cell_type": "code",
   "execution_count": null,
   "id": "13d18129-28be-4bb7-88be-c75ae8dca7e6",
   "metadata": {},
   "outputs": [],
   "source": [
    "#inhertance\n",
    "#polymorephism\n",
    "#abstraction\n",
    "#encapsulation"
   ]
  }
 ],
 "metadata": {
  "kernelspec": {
   "display_name": "Python 3 (ipykernel)",
   "language": "python",
   "name": "python3"
  },
  "language_info": {
   "codemirror_mode": {
    "name": "ipython",
    "version": 3
   },
   "file_extension": ".py",
   "mimetype": "text/x-python",
   "name": "python",
   "nbconvert_exporter": "python",
   "pygments_lexer": "ipython3",
   "version": "3.10.11"
  }
 },
 "nbformat": 4,
 "nbformat_minor": 5
}
